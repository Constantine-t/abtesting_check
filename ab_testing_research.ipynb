{
 "cells": [
  {
   "cell_type": "markdown",
   "metadata": {},
   "source": [
    "# Проект: вариант 2"
   ]
  },
  {
   "cell_type": "markdown",
   "metadata": {},
   "source": [
    "## Задание 1. A/B–тестирование"
   ]
  },
  {
   "cell_type": "markdown",
   "metadata": {},
   "source": [
    "### 1.1 Условие\n",
    "\n",
    ">Одной из основных задач аналитика в нашей команде является корректное проведение экспериментов. Для этого мы применяем метод A/B–тестирования. В ходе тестирования одной гипотезы целевой группе была предложена новая механика оплаты услуг на сайте, у контрольной группы оставалась базовая механика. В качестве задания вам необходимо проанализировать итоги эксперимента и сделать вывод, стоит ли запускать новую механику оплаты на всех пользователей."
   ]
  },
  {
   "cell_type": "markdown",
   "metadata": {},
   "source": [
    "#### 1.2 Входные данные\n",
    "\n",
    ">В качестве входных данных вы имеете 4 csv-файла:\n",
    "\n",
    ">- groups.csv – файл с информацией о принадлежности пользователя к контрольной или экспериментальной группе (А – контроль, B – целевая группа) \n",
    "\n",
    ">- groups_add.csv – дополнительный файл с пользователями, который вам прислали спустя 2 дня после передачи данных\n",
    "\n",
    ">- active_studs.csv – файл с информацией о пользователях, которые зашли на платформу в дни проведения эксперимента. \n",
    "\n",
    ">- checks.csv – файл с информацией об оплатах пользователей в дни проведения эксперимента. "
   ]
  },
  {
   "cell_type": "code",
   "execution_count": 1,
   "metadata": {},
   "outputs": [],
   "source": [
    "# Импорт библиотек.\n",
    "\n",
    "import pandas as pd\n",
    "import numpy as np\n",
    "import matplotlib.pyplot as plt\n",
    "import seaborn as sns\n",
    "import pingouin as pg\n",
    "import scipy.stats as stats\n",
    "import requests\n",
    "from urllib.parse import urlencode\n",
    "\n",
    "%matplotlib inline"
   ]
  },
  {
   "cell_type": "code",
   "execution_count": 2,
   "metadata": {},
   "outputs": [],
   "source": [
    "# Ссылки на датасеты.\n",
    "\n",
    "groups_url = 'https://disk.yandex.ru/d/UhyYx41rTt3clQ'\n",
    "groups_add_url = 'https://disk.yandex.ru/d/5Kxrz02m3IBUwQ'\n",
    "active_studs_url = 'https://disk.yandex.ru/d/Tbs44Bm6H_FwFQ'\n",
    "checks_url = 'https://disk.yandex.ru/d/pH1q-VqcxXjsVA'\n",
    "\n",
    "# Функция для чтения через API Я.Диска.\n",
    "\n",
    "def ydisk_api(public_key: str) -> str:\n",
    "    base_url = 'https://cloud-api.yandex.net/v1/disk/public/resources/download?'\n",
    "    url = base_url + urlencode(dict(public_key=public_key))\n",
    "    response = requests.get(url)\n",
    "    download = response.json()['href']\n",
    "    return download"
   ]
  },
  {
   "cell_type": "code",
   "execution_count": 3,
   "metadata": {},
   "outputs": [
    {
     "name": "stderr",
     "output_type": "stream",
     "text": [
      "/opt/tljh/user/lib/python3.7/site-packages/outdated/utils.py:18: OutdatedCacheFailedWarning: Failed to use cache while checking for outdated package.\n",
      "Set the environment variable OUTDATED_RAISE_EXCEPTION=1 for a full traceback.\n",
      "Set the environment variable OUTDATED_IGNORE=1 to disable these warnings.\n",
      "  **kwargs\n",
      "/opt/tljh/user/lib/python3.7/site-packages/outdated/utils.py:18: OutdatedPackageWarning: The package outdated is out of date. Your version is 0.2.1, the latest is 0.2.2.\n",
      "Set the environment variable OUTDATED_IGNORE=1 to disable these warnings.\n",
      "  **kwargs\n",
      "/opt/tljh/user/lib/python3.7/site-packages/outdated/utils.py:18: OutdatedPackageWarning: The package pingouin is out of date. Your version is 0.4.0, the latest is 0.5.5.\n",
      "Set the environment variable OUTDATED_IGNORE=1 to disable these warnings.\n",
      "  **kwargs\n"
     ]
    }
   ],
   "source": [
    "# Читаем файлы.\n",
    "\n",
    "active_studs = pd.read_csv(ydisk_api(active_studs_url))\n",
    "checks = pd.read_csv(ydisk_api(checks_url), sep=';')\n",
    "group_add = pd.read_csv(ydisk_api(groups_add_url))\n",
    "groups = pd.read_csv(ydisk_api(groups_url), sep=';')"
   ]
  },
  {
   "cell_type": "markdown",
   "metadata": {},
   "source": [
    "# Предварительный анализ данных(EDA)"
   ]
  },
  {
   "cell_type": "code",
   "execution_count": 4,
   "metadata": {},
   "outputs": [
    {
     "data": {
      "text/html": [
       "<div>\n",
       "<style scoped>\n",
       "    .dataframe tbody tr th:only-of-type {\n",
       "        vertical-align: middle;\n",
       "    }\n",
       "\n",
       "    .dataframe tbody tr th {\n",
       "        vertical-align: top;\n",
       "    }\n",
       "\n",
       "    .dataframe thead th {\n",
       "        text-align: right;\n",
       "    }\n",
       "</style>\n",
       "<table border=\"1\" class=\"dataframe\">\n",
       "  <thead>\n",
       "    <tr style=\"text-align: right;\">\n",
       "      <th></th>\n",
       "      <th>student_id</th>\n",
       "    </tr>\n",
       "  </thead>\n",
       "  <tbody>\n",
       "    <tr>\n",
       "      <th>0</th>\n",
       "      <td>581585</td>\n",
       "    </tr>\n",
       "    <tr>\n",
       "      <th>1</th>\n",
       "      <td>5723133</td>\n",
       "    </tr>\n",
       "    <tr>\n",
       "      <th>2</th>\n",
       "      <td>3276743</td>\n",
       "    </tr>\n",
       "  </tbody>\n",
       "</table>\n",
       "</div>"
      ],
      "text/plain": [
       "   student_id\n",
       "0      581585\n",
       "1     5723133\n",
       "2     3276743"
      ]
     },
     "execution_count": 4,
     "metadata": {},
     "output_type": "execute_result"
    }
   ],
   "source": [
    "# Проверим корректность считывания и проведем предварительный анализ.\n",
    "# Файл с информацией о пользователях, которые зашли на платформу в дни проведения эксперимента. \n",
    "\n",
    "active_studs.head(3)"
   ]
  },
  {
   "cell_type": "code",
   "execution_count": 5,
   "metadata": {},
   "outputs": [
    {
     "data": {
      "text/html": [
       "<div>\n",
       "<style scoped>\n",
       "    .dataframe tbody tr th:only-of-type {\n",
       "        vertical-align: middle;\n",
       "    }\n",
       "\n",
       "    .dataframe tbody tr th {\n",
       "        vertical-align: top;\n",
       "    }\n",
       "\n",
       "    .dataframe thead th {\n",
       "        text-align: right;\n",
       "    }\n",
       "</style>\n",
       "<table border=\"1\" class=\"dataframe\">\n",
       "  <thead>\n",
       "    <tr style=\"text-align: right;\">\n",
       "      <th></th>\n",
       "      <th>student_id</th>\n",
       "      <th>rev</th>\n",
       "    </tr>\n",
       "  </thead>\n",
       "  <tbody>\n",
       "    <tr>\n",
       "      <th>0</th>\n",
       "      <td>1627</td>\n",
       "      <td>990.0</td>\n",
       "    </tr>\n",
       "    <tr>\n",
       "      <th>1</th>\n",
       "      <td>3185</td>\n",
       "      <td>690.0</td>\n",
       "    </tr>\n",
       "    <tr>\n",
       "      <th>2</th>\n",
       "      <td>25973</td>\n",
       "      <td>690.0</td>\n",
       "    </tr>\n",
       "  </tbody>\n",
       "</table>\n",
       "</div>"
      ],
      "text/plain": [
       "   student_id    rev\n",
       "0        1627  990.0\n",
       "1        3185  690.0\n",
       "2       25973  690.0"
      ]
     },
     "execution_count": 5,
     "metadata": {},
     "output_type": "execute_result"
    }
   ],
   "source": [
    "# Файл с информацией об оплатах пользователей в дни проведения эксперимента. \n",
    "\n",
    "checks.head(3)"
   ]
  },
  {
   "cell_type": "code",
   "execution_count": 6,
   "metadata": {},
   "outputs": [
    {
     "data": {
      "text/html": [
       "<div>\n",
       "<style scoped>\n",
       "    .dataframe tbody tr th:only-of-type {\n",
       "        vertical-align: middle;\n",
       "    }\n",
       "\n",
       "    .dataframe tbody tr th {\n",
       "        vertical-align: top;\n",
       "    }\n",
       "\n",
       "    .dataframe thead th {\n",
       "        text-align: right;\n",
       "    }\n",
       "</style>\n",
       "<table border=\"1\" class=\"dataframe\">\n",
       "  <thead>\n",
       "    <tr style=\"text-align: right;\">\n",
       "      <th></th>\n",
       "      <th>id</th>\n",
       "      <th>grp</th>\n",
       "    </tr>\n",
       "  </thead>\n",
       "  <tbody>\n",
       "    <tr>\n",
       "      <th>0</th>\n",
       "      <td>1489</td>\n",
       "      <td>B</td>\n",
       "    </tr>\n",
       "    <tr>\n",
       "      <th>1</th>\n",
       "      <td>1627</td>\n",
       "      <td>A</td>\n",
       "    </tr>\n",
       "    <tr>\n",
       "      <th>2</th>\n",
       "      <td>1768</td>\n",
       "      <td>B</td>\n",
       "    </tr>\n",
       "  </tbody>\n",
       "</table>\n",
       "</div>"
      ],
      "text/plain": [
       "     id grp\n",
       "0  1489   B\n",
       "1  1627   A\n",
       "2  1768   B"
      ]
     },
     "execution_count": 6,
     "metadata": {},
     "output_type": "execute_result"
    }
   ],
   "source": [
    "# Файл с информацией о принадлежности пользователя к контрольной или экспериментальной группе(А – контроль, B – целевая группа).\n",
    "\n",
    "groups.head(3)"
   ]
  },
  {
   "cell_type": "code",
   "execution_count": 7,
   "metadata": {},
   "outputs": [
    {
     "data": {
      "text/html": [
       "<div>\n",
       "<style scoped>\n",
       "    .dataframe tbody tr th:only-of-type {\n",
       "        vertical-align: middle;\n",
       "    }\n",
       "\n",
       "    .dataframe tbody tr th {\n",
       "        vertical-align: top;\n",
       "    }\n",
       "\n",
       "    .dataframe thead th {\n",
       "        text-align: right;\n",
       "    }\n",
       "</style>\n",
       "<table border=\"1\" class=\"dataframe\">\n",
       "  <thead>\n",
       "    <tr style=\"text-align: right;\">\n",
       "      <th></th>\n",
       "      <th>id</th>\n",
       "      <th>grp</th>\n",
       "    </tr>\n",
       "  </thead>\n",
       "  <tbody>\n",
       "    <tr>\n",
       "      <th>0</th>\n",
       "      <td>5694584</td>\n",
       "      <td>B</td>\n",
       "    </tr>\n",
       "    <tr>\n",
       "      <th>1</th>\n",
       "      <td>5694830</td>\n",
       "      <td>B</td>\n",
       "    </tr>\n",
       "    <tr>\n",
       "      <th>2</th>\n",
       "      <td>5695057</td>\n",
       "      <td>B</td>\n",
       "    </tr>\n",
       "  </tbody>\n",
       "</table>\n",
       "</div>"
      ],
      "text/plain": [
       "        id grp\n",
       "0  5694584   B\n",
       "1  5694830   B\n",
       "2  5695057   B"
      ]
     },
     "execution_count": 7,
     "metadata": {},
     "output_type": "execute_result"
    }
   ],
   "source": [
    "# Дополнительный файл с пользователями, присланный спустя 2 дня после передачи данных.\n",
    "\n",
    "group_add.head(3)"
   ]
  },
  {
   "cell_type": "code",
   "execution_count": 8,
   "metadata": {},
   "outputs": [
    {
     "data": {
      "text/plain": [
       "(student_id      int64\n",
       " rev           float64\n",
       " dtype: object,\n",
       " student_id    int64\n",
       " dtype: object)"
      ]
     },
     "execution_count": 8,
     "metadata": {},
     "output_type": "execute_result"
    }
   ],
   "source": [
    "# Проверка типов.\n",
    "\n",
    "checks.dtypes, active_studs.dtypes"
   ]
  },
  {
   "cell_type": "code",
   "execution_count": 9,
   "metadata": {},
   "outputs": [
    {
     "data": {
      "text/plain": [
       "(id      int64\n",
       " grp    object\n",
       " dtype: object,\n",
       " id      int64\n",
       " grp    object\n",
       " dtype: object)"
      ]
     },
     "execution_count": 9,
     "metadata": {},
     "output_type": "execute_result"
    }
   ],
   "source": [
    "# Проверка типов.\n",
    "\n",
    "groups.dtypes, group_add.dtypes"
   ]
  },
  {
   "cell_type": "code",
   "execution_count": 10,
   "metadata": {},
   "outputs": [
    {
     "name": "stdout",
     "output_type": "stream",
     "text": [
      "<class 'pandas.core.frame.DataFrame'>\n",
      "RangeIndex: 8341 entries, 0 to 8340\n",
      "Data columns (total 1 columns):\n",
      " #   Column      Non-Null Count  Dtype\n",
      "---  ------      --------------  -----\n",
      " 0   student_id  8341 non-null   int64\n",
      "dtypes: int64(1)\n",
      "memory usage: 65.3 KB\n"
     ]
    }
   ],
   "source": [
    "# Проверка количества строк и полей.\n",
    "\n",
    "active_studs.info()"
   ]
  },
  {
   "cell_type": "code",
   "execution_count": 11,
   "metadata": {},
   "outputs": [
    {
     "name": "stdout",
     "output_type": "stream",
     "text": [
      "<class 'pandas.core.frame.DataFrame'>\n",
      "RangeIndex: 541 entries, 0 to 540\n",
      "Data columns (total 2 columns):\n",
      " #   Column      Non-Null Count  Dtype  \n",
      "---  ------      --------------  -----  \n",
      " 0   student_id  541 non-null    int64  \n",
      " 1   rev         541 non-null    float64\n",
      "dtypes: float64(1), int64(1)\n",
      "memory usage: 8.6 KB\n"
     ]
    }
   ],
   "source": [
    "# Проверка количества строк и полей.\n",
    "\n",
    "checks.info()"
   ]
  },
  {
   "cell_type": "code",
   "execution_count": 12,
   "metadata": {},
   "outputs": [
    {
     "name": "stdout",
     "output_type": "stream",
     "text": [
      "<class 'pandas.core.frame.DataFrame'>\n",
      "RangeIndex: 74484 entries, 0 to 74483\n",
      "Data columns (total 2 columns):\n",
      " #   Column  Non-Null Count  Dtype \n",
      "---  ------  --------------  ----- \n",
      " 0   id      74484 non-null  int64 \n",
      " 1   grp     74484 non-null  object\n",
      "dtypes: int64(1), object(1)\n",
      "memory usage: 1.1+ MB\n"
     ]
    }
   ],
   "source": [
    "# Проверка количества строк и полей.\n",
    "\n",
    "groups.info()"
   ]
  },
  {
   "cell_type": "code",
   "execution_count": 13,
   "metadata": {},
   "outputs": [
    {
     "name": "stdout",
     "output_type": "stream",
     "text": [
      "<class 'pandas.core.frame.DataFrame'>\n",
      "RangeIndex: 92 entries, 0 to 91\n",
      "Data columns (total 2 columns):\n",
      " #   Column  Non-Null Count  Dtype \n",
      "---  ------  --------------  ----- \n",
      " 0   id      92 non-null     int64 \n",
      " 1   grp     92 non-null     object\n",
      "dtypes: int64(1), object(1)\n",
      "memory usage: 1.6+ KB\n"
     ]
    }
   ],
   "source": [
    "# Проверка количества строк и полей.\n",
    "\n",
    "group_add.info()"
   ]
  },
  {
   "cell_type": "markdown",
   "metadata": {},
   "source": [
    "Теперь проверим null значения и дубликаты"
   ]
  },
  {
   "cell_type": "code",
   "execution_count": 14,
   "metadata": {},
   "outputs": [
    {
     "data": {
      "text/plain": [
       "(0,\n",
       " id     0\n",
       " grp    0\n",
       " dtype: int64)"
      ]
     },
     "execution_count": 14,
     "metadata": {},
     "output_type": "execute_result"
    }
   ],
   "source": [
    "# Проверим null и дубликаты в groups и остальных датасетах.\n",
    "\n",
    "groups.duplicated(subset=['id']).sum(), groups.isna().sum()"
   ]
  },
  {
   "cell_type": "code",
   "execution_count": 15,
   "metadata": {},
   "outputs": [
    {
     "data": {
      "text/plain": [
       "(0,\n",
       " id     0\n",
       " grp    0\n",
       " dtype: int64)"
      ]
     },
     "execution_count": 15,
     "metadata": {},
     "output_type": "execute_result"
    }
   ],
   "source": [
    "group_add.duplicated(subset=['id']).sum(), group_add.isna().sum()"
   ]
  },
  {
   "cell_type": "code",
   "execution_count": 16,
   "metadata": {},
   "outputs": [
    {
     "data": {
      "text/plain": [
       "(0,\n",
       " student_id    0\n",
       " dtype: int64)"
      ]
     },
     "execution_count": 16,
     "metadata": {},
     "output_type": "execute_result"
    }
   ],
   "source": [
    "active_studs.duplicated().sum(), active_studs.isna().sum()"
   ]
  },
  {
   "cell_type": "code",
   "execution_count": 17,
   "metadata": {},
   "outputs": [
    {
     "data": {
      "text/plain": [
       "(0,\n",
       " student_id    0\n",
       " rev           0\n",
       " dtype: int64)"
      ]
     },
     "execution_count": 17,
     "metadata": {},
     "output_type": "execute_result"
    }
   ],
   "source": [
    "checks.duplicated().sum(), checks.isna().sum()"
   ]
  },
  {
   "cell_type": "markdown",
   "metadata": {},
   "source": [
    "И приведем поля таблиц к одинаковым именам"
   ]
  },
  {
   "cell_type": "code",
   "execution_count": 18,
   "metadata": {},
   "outputs": [],
   "source": [
    "# Оставим только 'id' как в groups и group_add.\n",
    "\n",
    "active_studs.rename(columns={'student_id': 'id'}, inplace=True)\n",
    "\n",
    "checks.rename(columns={'student_id': 'id'}, inplace=True)"
   ]
  },
  {
   "cell_type": "markdown",
   "metadata": {},
   "source": [
    "**Данные в порядке, тип менять не нужно, можно работать**"
   ]
  },
  {
   "cell_type": "code",
   "execution_count": 19,
   "metadata": {},
   "outputs": [
    {
     "data": {
      "text/html": [
       "<div>\n",
       "<style scoped>\n",
       "    .dataframe tbody tr th:only-of-type {\n",
       "        vertical-align: middle;\n",
       "    }\n",
       "\n",
       "    .dataframe tbody tr th {\n",
       "        vertical-align: top;\n",
       "    }\n",
       "\n",
       "    .dataframe thead th {\n",
       "        text-align: right;\n",
       "    }\n",
       "</style>\n",
       "<table border=\"1\" class=\"dataframe\">\n",
       "  <thead>\n",
       "    <tr style=\"text-align: right;\">\n",
       "      <th></th>\n",
       "      <th>id</th>\n",
       "      <th>grp</th>\n",
       "      <th>rev</th>\n",
       "    </tr>\n",
       "  </thead>\n",
       "  <tbody>\n",
       "    <tr>\n",
       "      <th>0</th>\n",
       "      <td>1184303</td>\n",
       "      <td>A</td>\n",
       "      <td>1530.0000</td>\n",
       "    </tr>\n",
       "    <tr>\n",
       "      <th>1</th>\n",
       "      <td>3354191</td>\n",
       "      <td>B</td>\n",
       "      <td>1900.0001</td>\n",
       "    </tr>\n",
       "    <tr>\n",
       "      <th>2</th>\n",
       "      <td>3278734</td>\n",
       "      <td>B</td>\n",
       "      <td>1900.0000</td>\n",
       "    </tr>\n",
       "  </tbody>\n",
       "</table>\n",
       "</div>"
      ],
      "text/plain": [
       "        id grp        rev\n",
       "0  1184303   A  1530.0000\n",
       "1  3354191   B  1900.0001\n",
       "2  3278734   B  1900.0000"
      ]
     },
     "execution_count": 19,
     "metadata": {},
     "output_type": "execute_result"
    }
   ],
   "source": [
    "# Соберем данные.\n",
    "\n",
    "# group_full Данные о принадлежности к группам.\n",
    "group_full = pd.concat([groups, group_add], ignore_index=True)\n",
    "\n",
    "\n",
    "# Постараемся не удлинять, а сокращать названия переменных. studs подразумевает защедших во время эксперимента\n",
    "# Пользователей, состоящих в A или B группах.\n",
    "studs = active_studs.merge(group_full, on='id', how='inner')\n",
    "\n",
    "# paids таблица платящих пользователей, участвующих в эксперименте.\n",
    "paids = studs.merge(checks, on='id', how='inner')\n",
    "\n",
    "\n",
    "paids.head(3)"
   ]
  },
  {
   "cell_type": "code",
   "execution_count": 20,
   "metadata": {},
   "outputs": [
    {
     "data": {
      "text/html": [
       "<div>\n",
       "<style scoped>\n",
       "    .dataframe tbody tr th:only-of-type {\n",
       "        vertical-align: middle;\n",
       "    }\n",
       "\n",
       "    .dataframe tbody tr th {\n",
       "        vertical-align: top;\n",
       "    }\n",
       "\n",
       "    .dataframe thead th {\n",
       "        text-align: right;\n",
       "    }\n",
       "</style>\n",
       "<table border=\"1\" class=\"dataframe\">\n",
       "  <thead>\n",
       "    <tr style=\"text-align: right;\">\n",
       "      <th></th>\n",
       "      <th>id</th>\n",
       "      <th>grp</th>\n",
       "    </tr>\n",
       "  </thead>\n",
       "  <tbody>\n",
       "    <tr>\n",
       "      <th>0</th>\n",
       "      <td>1489</td>\n",
       "      <td>B</td>\n",
       "    </tr>\n",
       "    <tr>\n",
       "      <th>1</th>\n",
       "      <td>1627</td>\n",
       "      <td>A</td>\n",
       "    </tr>\n",
       "    <tr>\n",
       "      <th>2</th>\n",
       "      <td>1768</td>\n",
       "      <td>B</td>\n",
       "    </tr>\n",
       "  </tbody>\n",
       "</table>\n",
       "</div>"
      ],
      "text/plain": [
       "     id grp\n",
       "0  1489   B\n",
       "1  1627   A\n",
       "2  1768   B"
      ]
     },
     "execution_count": 20,
     "metadata": {},
     "output_type": "execute_result"
    }
   ],
   "source": [
    "group_full.head(3)"
   ]
  },
  {
   "cell_type": "code",
   "execution_count": 21,
   "metadata": {},
   "outputs": [
    {
     "data": {
      "text/html": [
       "<div>\n",
       "<style scoped>\n",
       "    .dataframe tbody tr th:only-of-type {\n",
       "        vertical-align: middle;\n",
       "    }\n",
       "\n",
       "    .dataframe tbody tr th {\n",
       "        vertical-align: top;\n",
       "    }\n",
       "\n",
       "    .dataframe thead th {\n",
       "        text-align: right;\n",
       "    }\n",
       "</style>\n",
       "<table border=\"1\" class=\"dataframe\">\n",
       "  <thead>\n",
       "    <tr style=\"text-align: right;\">\n",
       "      <th></th>\n",
       "      <th>id</th>\n",
       "      <th>grp</th>\n",
       "    </tr>\n",
       "  </thead>\n",
       "  <tbody>\n",
       "    <tr>\n",
       "      <th>0</th>\n",
       "      <td>581585</td>\n",
       "      <td>A</td>\n",
       "    </tr>\n",
       "    <tr>\n",
       "      <th>1</th>\n",
       "      <td>5723133</td>\n",
       "      <td>A</td>\n",
       "    </tr>\n",
       "    <tr>\n",
       "      <th>2</th>\n",
       "      <td>3276743</td>\n",
       "      <td>B</td>\n",
       "    </tr>\n",
       "  </tbody>\n",
       "</table>\n",
       "</div>"
      ],
      "text/plain": [
       "        id grp\n",
       "0   581585   A\n",
       "1  5723133   A\n",
       "2  3276743   B"
      ]
     },
     "execution_count": 21,
     "metadata": {},
     "output_type": "execute_result"
    }
   ],
   "source": [
    "studs.head(3)"
   ]
  },
  {
   "cell_type": "markdown",
   "metadata": {},
   "source": [
    "Итого у нас получается 3 датасета\n",
    "\n",
    "- `group_full` = id студентов и их принадлежность к группе A/B теста\n",
    "\n",
    "- `studs` = заходили во время эксперимента плюс принадлежность к группе\n",
    "\n",
    "- `paids` = заходили во время эксперимента и платили"
   ]
  },
  {
   "cell_type": "markdown",
   "metadata": {},
   "source": [
    "Для исследования нам понадобятся только `studs` и `paids`. Учитывать пользователей, которые не были активны во время эксперимента нет смысла."
   ]
  },
  {
   "cell_type": "code",
   "execution_count": 22,
   "metadata": {},
   "outputs": [
    {
     "data": {
      "text/plain": [
       "B    0.80298\n",
       "A    0.19702\n",
       "Name: grp, dtype: float64"
      ]
     },
     "execution_count": 22,
     "metadata": {},
     "output_type": "execute_result"
    },
    {
     "data": {
      "image/png": "[encoded data removed]",
      "text/plain": [
       "<Figure size 432x288 with 1 Axes>"
      ]
     },
     "metadata": {
      "needs_background": "light"
     },
     "output_type": "display_data"
    }
   ],
   "source": [
    "# Посмотрим на соотношение количества студентов в группах.\n",
    "\n",
    "sns.countplot(x='grp', \n",
    "              data=group_full,\n",
    "              order=['A', 'B'],\n",
    "              palette='husl')\n",
    "\n",
    "group_full.grp.value_counts(normalize=True)"
   ]
  },
  {
   "cell_type": "markdown",
   "metadata": {},
   "source": [
    "Соотношение практически 20 на 80%. Большой перекос в группе B."
   ]
  },
  {
   "cell_type": "code",
   "execution_count": 23,
   "metadata": {},
   "outputs": [
    {
     "data": {
      "text/plain": [
       "B    0.81561\n",
       "A    0.18439\n",
       "Name: grp, dtype: float64"
      ]
     },
     "execution_count": 23,
     "metadata": {},
     "output_type": "execute_result"
    },
    {
     "data": {
      "image/png": "[encoded data removed]",
      "text/plain": [
       "<Figure size 432x288 with 1 Axes>"
      ]
     },
     "metadata": {
      "needs_background": "light"
     },
     "output_type": "display_data"
    }
   ],
   "source": [
    "# Посмотрим соотношение в уже объединенных данных.\n",
    "\n",
    "sns.countplot(x='grp', \n",
    "              data=studs,\n",
    "              order=['A', 'B'],\n",
    "              palette='husl')\n",
    "\n",
    "\n",
    "studs.grp.value_counts(normalize=True)"
   ]
  },
  {
   "cell_type": "code",
   "execution_count": 24,
   "metadata": {},
   "outputs": [
    {
     "data": {
      "text/plain": [
       "B    0.80102\n",
       "A    0.19898\n",
       "Name: grp, dtype: float64"
      ]
     },
     "execution_count": 24,
     "metadata": {},
     "output_type": "execute_result"
    },
    {
     "data": {
      "image/png": "[encoded data removed]",
      "text/plain": [
       "<Figure size 432x288 with 1 Axes>"
      ]
     },
     "metadata": {
      "needs_background": "light"
     },
     "output_type": "display_data"
    }
   ],
   "source": [
    "# И в платящих.\n",
    "\n",
    "sns.countplot(x='grp', \n",
    "              data=paids,\n",
    "              order=['A', 'B'],\n",
    "              palette='husl')\n",
    "\n",
    "\n",
    "paids.grp.value_counts(normalize=True)"
   ]
  },
  {
   "cell_type": "code",
   "execution_count": 25,
   "metadata": {},
   "outputs": [
    {
     "data": {
      "text/plain": [
       "(392, 3)"
      ]
     },
     "execution_count": 25,
     "metadata": {},
     "output_type": "execute_result"
    }
   ],
   "source": [
    "paids.shape"
   ]
  },
  {
   "cell_type": "markdown",
   "metadata": {},
   "source": [
    "**Соотношения практически совпадают во всех датасетах. Финальный датасет `paids` меньше, чем `checks`(541 у `checks` против 392 у `paids`) это значит 149 платящих клиентов не заходили во время эксперимента(тестируется оплата, вероятно, у оставшихся настроен автоплатеж. Или просто баг, в любом случае для исследования механики оплаты учитывать их нет смысла).**\n",
    "\n",
    "Возникает вопрос о причинах такого перекоса, проблема ли это сплитования, баги или ещё что-то, мы не знаем, хотя соотношения почти везде 80% на 20%, наталкивает на мысль, что проблема в автоматике. Но количество наблюдений большое, это позволяет нам продолжить исследование и проводить статистические тесты."
   ]
  },
  {
   "cell_type": "markdown",
   "metadata": {},
   "source": [
    "Прежде чем переходить к метрикам исследуем получившиеся данные немного глубже."
   ]
  },
  {
   "cell_type": "code",
   "execution_count": 26,
   "metadata": {},
   "outputs": [
    {
     "data": {
      "text/plain": [
       "grp\n",
       "A     72820.0000\n",
       "B    394974.0035\n",
       "Name: rev, dtype: float64"
      ]
     },
     "execution_count": 26,
     "metadata": {},
     "output_type": "execute_result"
    }
   ],
   "source": [
    "# Из-за перекоса в группах суммы в них нам ничего не дают, но для общего понимания можно посмотреть.\n",
    "\n",
    "paids.groupby('grp')['rev'].sum()"
   ]
  },
  {
   "cell_type": "code",
   "execution_count": 27,
   "metadata": {},
   "outputs": [
    {
     "data": {
      "text/plain": [
       "grp\n",
       "A     933.589744\n",
       "B    1257.878992\n",
       "Name: rev, dtype: float64"
      ]
     },
     "execution_count": 27,
     "metadata": {},
     "output_type": "execute_result"
    }
   ],
   "source": [
    "# Среднее и медиана более информативны, но и на них перекос группы B(тестовая)\n",
    "\n",
    "paids.groupby('grp')['rev'].mean()"
   ]
  },
  {
   "cell_type": "code",
   "execution_count": 28,
   "metadata": {},
   "outputs": [
    {
     "data": {
      "text/plain": [
       "grp\n",
       "A     585.0\n",
       "B    1140.0\n",
       "Name: rev, dtype: float64"
      ]
     },
     "execution_count": 28,
     "metadata": {},
     "output_type": "execute_result"
    }
   ],
   "source": [
    "paids.groupby('grp')['rev'].median()"
   ]
  },
  {
   "cell_type": "code",
   "execution_count": 29,
   "metadata": {},
   "outputs": [
    {
     "data": {
      "text/plain": [
       "<matplotlib.axes._subplots.AxesSubplot at 0x7f73c5798eb8>"
      ]
     },
     "execution_count": 29,
     "metadata": {},
     "output_type": "execute_result"
    },
    {
     "data": {
      "image/png": "[encoded data removed]",
      "text/plain": [
       "<Figure size 432x288 with 1 Axes>"
      ]
     },
     "metadata": {
      "needs_background": "light"
     },
     "output_type": "display_data"
    }
   ],
   "source": [
    "# Boxplot наглядно показывает эти различия. \n",
    "    \n",
    "sns.boxplot(data = paids,\n",
    "            x = 'grp',\n",
    "            y = 'rev',\n",
    "            palette='husl')"
   ]
  },
  {
   "cell_type": "markdown",
   "metadata": {},
   "source": [
    "Различия действительно есть. Распределение не назвать нормальным(ниже докажем статистически). Значительная разница между средним арифметическим значением и медианой в группе A указывает на выбросы в данных. Они действительно видны на графике."
   ]
  },
  {
   "cell_type": "code",
   "execution_count": 30,
   "metadata": {},
   "outputs": [
    {
     "data": {
      "text/plain": [
       "<matplotlib.axes._subplots.AxesSubplot at 0x7f73c5710710>"
      ]
     },
     "execution_count": 30,
     "metadata": {},
     "output_type": "execute_result"
    },
    {
     "data": {
      "image/png": "[encoded data removed]",
      "text/plain": [
       "<Figure size 432x288 with 1 Axes>"
      ]
     },
     "metadata": {
      "needs_background": "light"
     },
     "output_type": "display_data"
    }
   ],
   "source": [
    "sns.histplot(x='rev', \n",
    "              data=paids,\n",
    "              hue='grp',\n",
    "              palette='husl')\n",
    "\n",
    "# Интересно что на графике видно, что после 2000 соотношение немного меняется."
   ]
  },
  {
   "cell_type": "code",
   "execution_count": 31,
   "metadata": {},
   "outputs": [
    {
     "data": {
      "text/plain": [
       "B    0.6\n",
       "A    0.4\n",
       "Name: grp, dtype: float64"
      ]
     },
     "execution_count": 31,
     "metadata": {},
     "output_type": "execute_result"
    },
    {
     "data": {
      "image/png": "[encoded data removed]",
      "text/plain": [
       "<Figure size 432x288 with 1 Axes>"
      ]
     },
     "metadata": {
      "needs_background": "light"
     },
     "output_type": "display_data"
    }
   ],
   "source": [
    "# Количество и соотношение в группах при чеке выше 2000. \n",
    "\n",
    "sns.histplot(x='rev', \n",
    "              data=(paids[paids[\"rev\"] > 2000]),\n",
    "              hue='grp',\n",
    "              palette='husl')\n",
    "\n",
    "(paids[paids[\"rev\"] > 2000]).grp.value_counts(normalize=True)"
   ]
  },
  {
   "cell_type": "code",
   "execution_count": 32,
   "metadata": {},
   "outputs": [
    {
     "data": {
      "text/plain": [
       "grp\n",
       "A    10\n",
       "B    15\n",
       "Name: id, dtype: int64"
      ]
     },
     "execution_count": 32,
     "metadata": {},
     "output_type": "execute_result"
    }
   ],
   "source": [
    "(paids[paids[\"rev\"] > 2000]).groupby('grp')['id'].count()"
   ]
  },
  {
   "cell_type": "markdown",
   "metadata": {},
   "source": [
    "Серьезных статистических выводов при таком N мы делать не можем. Можно лишь отметить тенденцию что соотношение в группах начинает меняться при rev > 2000."
   ]
  },
  {
   "cell_type": "markdown",
   "metadata": {},
   "source": [
    "# 1.3 Вопросы\n",
    "\n",
    "> - ### На какие метрики вы смотрите в ходе анализа и почему?\n",
    "\n",
    "> - ### Имеются ли различия в показателях и с чем они могут быть связаны?\n",
    "\n",
    "> - ### Являются ли эти различия статистически значимыми?\n",
    "\n",
    "> - ### Стоит ли запускать новую механику на всех пользователей?"
   ]
  },
  {
   "cell_type": "markdown",
   "metadata": {},
   "source": [
    "# На какие метрики опираться и почему. CR, ARPU, ARPPU."
   ]
  },
  {
   "cell_type": "markdown",
   "metadata": {},
   "source": [
    "### Почему?\n",
    "\n",
    "Так как мы исследуем механику оплаты, логично выбрать метрики, отражающие то, как часто пользователи платят и сколько платят. \n",
    "CR — конверсия в оплаты. Если новая механика позволяет принять решение о покупке, то эта метрика отразит изменение.\n",
    "ARPU(Средний доход на пользователя) и ARPPU(Средний доход на платящего пользователя) — если механика оплаты улучшает пользовательский опыт, то они могут начать тратить больше. Эти метрики отразят это изменение."
   ]
  },
  {
   "cell_type": "markdown",
   "metadata": {},
   "source": [
    "# CR"
   ]
  },
  {
   "cell_type": "markdown",
   "metadata": {},
   "source": [
    "**Первой возьмем метрику CR. Конверсия в оплату из захода на сайт. Так как мы тестируем оплату, конверсия будет важным показателем.**"
   ]
  },
  {
   "cell_type": "code",
   "execution_count": 33,
   "metadata": {},
   "outputs": [
    {
     "data": {
      "text/html": [
       "<div>\n",
       "<style scoped>\n",
       "    .dataframe tbody tr th:only-of-type {\n",
       "        vertical-align: middle;\n",
       "    }\n",
       "\n",
       "    .dataframe tbody tr th {\n",
       "        vertical-align: top;\n",
       "    }\n",
       "\n",
       "    .dataframe thead th {\n",
       "        text-align: right;\n",
       "    }\n",
       "</style>\n",
       "<table border=\"1\" class=\"dataframe\">\n",
       "  <thead>\n",
       "    <tr style=\"text-align: right;\">\n",
       "      <th></th>\n",
       "      <th>id</th>\n",
       "      <th>grp</th>\n",
       "      <th>rev</th>\n",
       "      <th>paid</th>\n",
       "    </tr>\n",
       "  </thead>\n",
       "  <tbody>\n",
       "    <tr>\n",
       "      <th>0</th>\n",
       "      <td>581585</td>\n",
       "      <td>A</td>\n",
       "      <td>0.0</td>\n",
       "      <td>0.0</td>\n",
       "    </tr>\n",
       "    <tr>\n",
       "      <th>1</th>\n",
       "      <td>5723133</td>\n",
       "      <td>A</td>\n",
       "      <td>0.0</td>\n",
       "      <td>0.0</td>\n",
       "    </tr>\n",
       "    <tr>\n",
       "      <th>2</th>\n",
       "      <td>3276743</td>\n",
       "      <td>B</td>\n",
       "      <td>0.0</td>\n",
       "      <td>0.0</td>\n",
       "    </tr>\n",
       "  </tbody>\n",
       "</table>\n",
       "</div>"
      ],
      "text/plain": [
       "        id grp  rev  paid\n",
       "0   581585   A  0.0   0.0\n",
       "1  5723133   A  0.0   0.0\n",
       "2  3276743   B  0.0   0.0"
      ]
     },
     "execution_count": 33,
     "metadata": {},
     "output_type": "execute_result"
    }
   ],
   "source": [
    "# У нас есть датафрейм studs = заходили во время эксперимента плюс принадлежность к группе и\n",
    "# paids = заходили во время эксперимента и платили.\n",
    "# Объединим их и получим таблицу с заходившими во время эксперимента пользователями которые платили\\не платили.\n",
    "\n",
    "# Для начала добавим колонку в paid с обозначением оплаты.\n",
    "paids['paid'] = 1\n",
    "\n",
    "cr = studs.merge(paids[['id', 'rev', 'paid']], on='id', how='left').fillna(0)\n",
    "\n",
    "# cr новый объединенный датафрейм для расчета конверсии. Включает в себя всех пользователей, заходивших во время эксперимента\n",
    "# с маркером платящих\\не платящих.\n",
    "cr.head(3)"
   ]
  },
  {
   "cell_type": "code",
   "execution_count": 34,
   "metadata": {},
   "outputs": [
    {
     "data": {
      "text/plain": [
       "grp  paid\n",
       "A    0.0     1460\n",
       "     1.0       78\n",
       "B    0.0     6489\n",
       "     1.0      314\n",
       "Name: paid, dtype: int64"
      ]
     },
     "execution_count": 34,
     "metadata": {},
     "output_type": "execute_result"
    }
   ],
   "source": [
    "# Посмотрим на распределение.\n",
    "\n",
    "cr_value = cr.groupby('grp').paid.value_counts()\n",
    "\n",
    "cr_value"
   ]
  },
  {
   "cell_type": "code",
   "execution_count": 35,
   "metadata": {},
   "outputs": [
    {
     "data": {
      "text/plain": [
       "grp\n",
       "A    0.0507\n",
       "B    0.0462\n",
       "Name: paid, dtype: float64"
      ]
     },
     "execution_count": 35,
     "metadata": {},
     "output_type": "execute_result"
    }
   ],
   "source": [
    "# Рассчитываем конверсию (CR) как долю оплативших в каждой группе.\n",
    "\n",
    "cr_prc = cr.groupby('grp')['paid'].mean()\n",
    "\n",
    "cr_prc.round(4)"
   ]
  },
  {
   "cell_type": "markdown",
   "metadata": {},
   "source": [
    "**Конверсия в группе A ≈ 5.07%. В группе B ≈ 4.62%.** "
   ]
  },
  {
   "cell_type": "markdown",
   "metadata": {},
   "source": [
    "Чтобы проверять статистическую значимость результатов возьмем χ2 так как сравниваются категории. Размер выборки достаточно большой и наблюдения независимы. Можем быть уверенными в точности теста.\n",
    "\n",
    "H₀ — конверсии в группах A и B статистически не различаются\n",
    "\n",
    "H₁ — разница конверсий статистически значима"
   ]
  },
  {
   "cell_type": "code",
   "execution_count": 36,
   "metadata": {},
   "outputs": [],
   "source": [
    "# Распределим значения по переменным для χ2.\n",
    "\n",
    "grp_A = cr[cr['grp'] == 'A']\n",
    "grp_B = cr[cr['grp'] == 'B']\n",
    "\n",
    "A_pay = grp_A.paid.sum()\n",
    "A_nopay = grp_A.paid.size - grp_A.paid.sum()\n",
    "\n",
    "B_pay = grp_B.paid.sum()\n",
    "B_nopay = grp_B.paid.size - grp_B.paid.sum()"
   ]
  },
  {
   "cell_type": "code",
   "execution_count": 37,
   "metadata": {},
   "outputs": [
    {
     "data": {
      "text/plain": [
       "array([[  78., 1460.],\n",
       "       [ 314., 6489.]])"
      ]
     },
     "execution_count": 37,
     "metadata": {},
     "output_type": "execute_result"
    }
   ],
   "source": [
    "# Создадим матрицу значений.\n",
    "\n",
    "matrix = np.array([[A_pay, A_nopay],\n",
    "                   [B_pay, B_nopay]])\n",
    "\n",
    "matrix"
   ]
  },
  {
   "cell_type": "code",
   "execution_count": 38,
   "metadata": {},
   "outputs": [
    {
     "data": {
      "text/plain": [
       "0.44547028437158964"
      ]
     },
     "execution_count": 38,
     "metadata": {},
     "output_type": "execute_result"
    }
   ],
   "source": [
    "stats.chi2_contingency(matrix, correction=False)[1]"
   ]
  },
  {
   "cell_type": "markdown",
   "metadata": {},
   "source": [
    "Результаты статистических тестов:\n",
    "**χ2 p-value = 0.4454 (> 0.05)**\n",
    "\n",
    "**Оставляем H₀, различие в конверсии в покупку между группами A и B не является статистически значимым.**"
   ]
  },
  {
   "cell_type": "markdown",
   "metadata": {},
   "source": [
    "# СR Вывод:\n",
    "\n",
    "**Несмотря на то, что группа A показывает чуть более высокую конверсию, статистические тесты не подтверждают значимого различия.\n",
    "Нет оснований утверждать, что одно из условий эксперимента повлияло на конверсию. То есть мы можем заявить, что новая механика не влияет на принятие решения о покупке.**"
   ]
  },
  {
   "cell_type": "markdown",
   "metadata": {},
   "source": [
    "# ARPU(Средний доход на пользователя) и ARPPU(Средний доход на платящего пользователя)"
   ]
  },
  {
   "cell_type": "markdown",
   "metadata": {},
   "source": [
    "\n",
    "Другими важными метриками являются **ARPU**(Средний доход на пользователя) и **ARPPU**(Средний доход на платящего пользователя). Если новая механика оплаты не влияет на принятие решения о покупке, возможно, она влияет на средний чек покупки(например, если каждый товар не надо оплачивать отдельно).\n",
    "\n",
    "`cr` — активные пользователи, этот датафрейм подойдет для вычисления **ARPU**\n",
    "\n",
    "`paids` — активные платящие пользователи, этот датафрейм подойдет для вычисления **ARPPU**"
   ]
  },
  {
   "cell_type": "code",
   "execution_count": 39,
   "metadata": {},
   "outputs": [
    {
     "data": {
      "text/plain": [
       "grp\n",
       "A    47.347204\n",
       "B    58.058798\n",
       "Name: rev, dtype: float64"
      ]
     },
     "execution_count": 39,
     "metadata": {},
     "output_type": "execute_result"
    }
   ],
   "source": [
    "# Первым рассчитаем ARPU.\n",
    "\n",
    "arpu_values = cr.groupby(\"grp\")[\"rev\"].mean()  # Средний доход на всех пользователей.\n",
    "\n",
    "arpu_values"
   ]
  },
  {
   "cell_type": "code",
   "execution_count": 40,
   "metadata": {},
   "outputs": [
    {
     "data": {
      "text/plain": [
       "grp\n",
       "A     933.589744\n",
       "B    1257.878992\n",
       "Name: rev, dtype: float64"
      ]
     },
     "execution_count": 40,
     "metadata": {},
     "output_type": "execute_result"
    }
   ],
   "source": [
    "#Теперь ARPPU.\n",
    "\n",
    "arppu_values = paids.groupby(\"grp\")[\"rev\"].mean()  # Средний доход только на платящих.\n",
    "\n",
    "arppu_values"
   ]
  },
  {
   "cell_type": "markdown",
   "metadata": {},
   "source": [
    "В обоих случаях у группы B преимущество. Необходимо проверить данные на статистическую значимость. Для этого сначала нужно исследовать нормальность распределения и дисперсии в `paids` и `cr` датафреймах."
   ]
  },
  {
   "cell_type": "markdown",
   "metadata": {},
   "source": [
    "### Нормальность данных\n",
    "\n",
    "Убедимся в том, что данные распределены не нормально. Выборка в `paids` A = 78, B = 314, при таком размере можем воспользоваться классическим для проверки нормальности тестом Шапиро-Уилка. Выборка `cr` A = 1538, B = 6803. При N > 500 будет более резонным воспользоваться тестом Андерсона-Дарлинга так как он лучше ведет себя на больших выборках. Таким образом для `paids` будем использовать тест Шапиро-Уилка. Для `cr` тест нормальности Андерсона-Дарлинга. \n",
    "\n",
    "\n",
    "Нулевая гипотеза (H₀) для теста Шапиро-Уилка для `paids`:\n",
    "\n",
    "- Данные о доходах (rev) в каждой группе (A и B) распределены нормально.\n",
    "\n",
    "То есть, выборки из групп A и B следуют нормальному распределению.\n",
    "\n",
    "Альтернативная гипотеза (H₁):\n",
    "- Данные не соответствуют нормальному распределению.\n"
   ]
  },
  {
   "cell_type": "code",
   "execution_count": 41,
   "metadata": {},
   "outputs": [
    {
     "data": {
      "text/plain": [
       "(ShapiroResult(statistic=0.7353236079216003, pvalue=1.4986822893803264e-10),\n",
       " ShapiroResult(statistic=0.8547235727310181, pvalue=1.5437024585965894e-16))"
      ]
     },
     "execution_count": 41,
     "metadata": {},
     "output_type": "execute_result"
    }
   ],
   "source": [
    "# Тест Шапиро-Уилка на нормальность.\n",
    "shapiro_A = stats.shapiro(paids[paids[\"grp\"] == \"A\"][\"rev\"])\n",
    "shapiro_B = stats.shapiro(paids[paids[\"grp\"] == \"B\"][\"rev\"])\n",
    "\n",
    "shapiro_A, shapiro_B"
   ]
  },
  {
   "cell_type": "markdown",
   "metadata": {},
   "source": [
    "Оба p-value << 0.05, поэтому мы отвергаем нулевую гипотезу и заключаем, что распределения в группах A и B в `paids` не являются нормальными."
   ]
  },
  {
   "cell_type": "markdown",
   "metadata": {},
   "source": [
    "Исследуем `cr` на нормальность. \n",
    "\n",
    "Нулевая гипотеза (H₀) для теста Андерсона-Дарлинга:\n",
    "\n",
    "- Данные о доходах (rev) в каждой группе (A и B) распределены нормально.\n",
    "\n",
    "Альтернативная гипотеза (H₁):\n",
    "\n",
    "- Данные не соответствуют нормальному распределению."
   ]
  },
  {
   "cell_type": "code",
   "execution_count": 42,
   "metadata": {},
   "outputs": [
    {
     "data": {
      "text/html": [
       "<div>\n",
       "<style scoped>\n",
       "    .dataframe tbody tr th:only-of-type {\n",
       "        vertical-align: middle;\n",
       "    }\n",
       "\n",
       "    .dataframe tbody tr th {\n",
       "        vertical-align: top;\n",
       "    }\n",
       "\n",
       "    .dataframe thead th {\n",
       "        text-align: right;\n",
       "    }\n",
       "</style>\n",
       "<table border=\"1\" class=\"dataframe\">\n",
       "  <thead>\n",
       "    <tr style=\"text-align: right;\">\n",
       "      <th></th>\n",
       "      <th>W</th>\n",
       "      <th>pval</th>\n",
       "      <th>normal</th>\n",
       "    </tr>\n",
       "  </thead>\n",
       "  <tbody>\n",
       "    <tr>\n",
       "      <th>rev</th>\n",
       "      <td>7797.399212</td>\n",
       "      <td>0.0</td>\n",
       "      <td>False</td>\n",
       "    </tr>\n",
       "  </tbody>\n",
       "</table>\n",
       "</div>"
      ],
      "text/plain": [
       "               W  pval  normal\n",
       "rev  7797.399212   0.0   False"
      ]
     },
     "execution_count": 42,
     "metadata": {},
     "output_type": "execute_result"
    }
   ],
   "source": [
    "# Фильтруем данные по группам A и B\n",
    "data_A = cr[cr['grp'] == 'A']['rev']\n",
    "data_B = cr[cr['grp'] == 'B']['rev']\n",
    "\n",
    "\n",
    "# Тест Андерсона-Дарлинга для группы B\n",
    "pg.normality(data_B, method='normaltest')"
   ]
  },
  {
   "cell_type": "code",
   "execution_count": 43,
   "metadata": {},
   "outputs": [
    {
     "data": {
      "text/html": [
       "<div>\n",
       "<style scoped>\n",
       "    .dataframe tbody tr th:only-of-type {\n",
       "        vertical-align: middle;\n",
       "    }\n",
       "\n",
       "    .dataframe tbody tr th {\n",
       "        vertical-align: top;\n",
       "    }\n",
       "\n",
       "    .dataframe thead th {\n",
       "        text-align: right;\n",
       "    }\n",
       "</style>\n",
       "<table border=\"1\" class=\"dataframe\">\n",
       "  <thead>\n",
       "    <tr style=\"text-align: right;\">\n",
       "      <th></th>\n",
       "      <th>W</th>\n",
       "      <th>pval</th>\n",
       "      <th>normal</th>\n",
       "    </tr>\n",
       "  </thead>\n",
       "  <tbody>\n",
       "    <tr>\n",
       "      <th>rev</th>\n",
       "      <td>2240.595797</td>\n",
       "      <td>0.0</td>\n",
       "      <td>False</td>\n",
       "    </tr>\n",
       "  </tbody>\n",
       "</table>\n",
       "</div>"
      ],
      "text/plain": [
       "               W  pval  normal\n",
       "rev  2240.595797   0.0   False"
      ]
     },
     "execution_count": 43,
     "metadata": {},
     "output_type": "execute_result"
    }
   ],
   "source": [
    "# Тест Андерсона-Дарлинга для группы A\n",
    "\n",
    "pg.normality(data_A, method='normaltest')"
   ]
  },
  {
   "cell_type": "markdown",
   "metadata": {},
   "source": [
    "Распределение не является нормальным. Мы отвергаем H₀ и принимаем H₁: **Данные в группах A и B в `cr` не соответствуют нормальному распределению.**"
   ]
  },
  {
   "cell_type": "markdown",
   "metadata": {},
   "source": [
    "### Дисперсии внутри групп\n",
    "\n",
    "Однако, пока мы не знаем дисперсий внутри групп, это критичный параметр для выбора статистического теста.  Группы независимы, данные (rev) количественные, наблюдений достаточно. Можем применять тест Левена. Гипотезы теста Левена для `paids`: \n",
    "\n",
    "- H₀: Дисперсии во группах A и B равны. (группы имеют одинаковую вариативность).\n",
    "\n",
    "- H₁: Дисперсии различны (группы имеют разную вариативность)."
   ]
  },
  {
   "cell_type": "code",
   "execution_count": 44,
   "metadata": {},
   "outputs": [
    {
     "data": {
      "text/plain": [
       "LeveneResult(statistic=3.0756816999816055, pvalue=0.08025675761347022)"
      ]
     },
     "execution_count": 44,
     "metadata": {},
     "output_type": "execute_result"
    }
   ],
   "source": [
    "# Проверяем дисперсию внутри групп A и B с помощью теста Левена.\n",
    "\n",
    "levene_test = stats.levene(\n",
    "    paids[paids[\"grp\"] == \"A\"][\"rev\"],\n",
    "    paids[paids[\"grp\"] == \"B\"][\"rev\"]\n",
    ")\n",
    "\n",
    "levene_test\n"
   ]
  },
  {
   "cell_type": "markdown",
   "metadata": {},
   "source": [
    "Так как 𝑝 > 0.05 мы **не отвергаем нулевую гипотезу** о равенстве дисперсий. \n",
    "Это значит, что различие в дисперсиях между группами не является статистически значимым и мы можем использовать T-тест."
   ]
  },
  {
   "cell_type": "markdown",
   "metadata": {},
   "source": [
    "Тест Левена для `cr`:\n",
    "\n",
    "- H₀: Дисперсии данных о доходах (rev) в каждой группе (A и B) `cr` не отличаются.\n",
    "\n",
    "- H₁: Дисперсии статистически различаются."
   ]
  },
  {
   "cell_type": "code",
   "execution_count": 45,
   "metadata": {},
   "outputs": [
    {
     "data": {
      "text/plain": [
       "LeveneResult(statistic=1.5014608294336371, pvalue=0.22048133327049665)"
      ]
     },
     "execution_count": 45,
     "metadata": {},
     "output_type": "execute_result"
    }
   ],
   "source": [
    "# Проверяем дисперсию внутри групп A и B с помощью теста Левена.\n",
    "\n",
    "levene_test_cr = stats.levene(\n",
    "    data_A,\n",
    "    data_B\n",
    ")\n",
    "\n",
    "levene_test_cr"
   ]
  },
  {
   "cell_type": "markdown",
   "metadata": {},
   "source": [
    "**pvalue > 0.05. Оставляем H₀ — дисперсии не имеют статистически значимых различий.**"
   ]
  },
  {
   "cell_type": "markdown",
   "metadata": {},
   "source": [
    "Нужно проверить статистическую значимость. Для ARPU и ARPPU воспользуемся Т-критерием Стьюдента о различии средних. Несмотря на ненормальность данных дисперсии внтри групп статистически не различаются и размеры выборок большие.\n",
    "\n",
    "- H₀ для ARPU — при новой механике средний доход от пользователя не изменился;\n",
    "\n",
    "- H₁ для ARPU — при новой механике средний доход от пользователя статистически значимо изменился.\n",
    "\n",
    "\n",
    "- H₀ для ARPPU — при новой механике средний доход от платящего пользователя не изменился;\n",
    "\n",
    "- H₁ для ARPPU — при новой механике средний доход от платящего пользователя статистически значимо изменился."
   ]
  },
  {
   "cell_type": "code",
   "execution_count": 46,
   "metadata": {},
   "outputs": [
    {
     "data": {
      "text/plain": [
       "(Ttest_indResult(statistic=-1.225341107379344, pvalue=0.22048133326988403),\n",
       " Ttest_indResult(statistic=-3.1337795050930985, pvalue=0.0018562025265765867))"
      ]
     },
     "execution_count": 46,
     "metadata": {},
     "output_type": "execute_result"
    }
   ],
   "source": [
    "# T-тест для ARPU и ARPPU.\n",
    "t_stat_arpu = stats.ttest_ind(\n",
    "    cr[cr[\"grp\"] == \"A\"][\"rev\"],\n",
    "    cr[cr[\"grp\"] == \"B\"][\"rev\"]\n",
    ")\n",
    "\n",
    "t_stat_arppu = stats.ttest_ind(\n",
    "    paids[paids[\"grp\"] == \"A\"][\"rev\"],\n",
    "    paids[paids[\"grp\"] == \"B\"][\"rev\"]\n",
    ")\n",
    "\n",
    "t_stat_arpu, t_stat_arppu"
   ]
  },
  {
   "cell_type": "markdown",
   "metadata": {},
   "source": [
    "### ARPU имеет pvalue = 0.22 — разница незначима. ARPPU pvalue = 0.002. ARPPU имеет статистически значимую разницу.\n",
    "\n",
    "#### - ARPU: оставляем H₀. при новой механике средний доход от пользователя не изменился.\n",
    "\n",
    "#### - ARPPU: принимаем H₁. при новой механике средний доход от платящего пользователя статистически значимо изменился."
   ]
  },
  {
   "cell_type": "code",
   "execution_count": 47,
   "metadata": {},
   "outputs": [
    {
     "data": {
      "text/html": [
       "<div>\n",
       "<style scoped>\n",
       "    .dataframe tbody tr th:only-of-type {\n",
       "        vertical-align: middle;\n",
       "    }\n",
       "\n",
       "    .dataframe tbody tr th {\n",
       "        vertical-align: top;\n",
       "    }\n",
       "\n",
       "    .dataframe thead th {\n",
       "        text-align: right;\n",
       "    }\n",
       "</style>\n",
       "<table border=\"1\" class=\"dataframe\">\n",
       "  <thead>\n",
       "    <tr style=\"text-align: right;\">\n",
       "      <th></th>\n",
       "      <th>grp</th>\n",
       "      <th>rev</th>\n",
       "      <th>paid</th>\n",
       "    </tr>\n",
       "    <tr>\n",
       "      <th>id</th>\n",
       "      <th></th>\n",
       "      <th></th>\n",
       "      <th></th>\n",
       "    </tr>\n",
       "  </thead>\n",
       "  <tbody>\n",
       "    <tr>\n",
       "      <th>1627</th>\n",
       "      <td>1</td>\n",
       "      <td>1</td>\n",
       "      <td>1</td>\n",
       "    </tr>\n",
       "    <tr>\n",
       "      <th>100300</th>\n",
       "      <td>1</td>\n",
       "      <td>1</td>\n",
       "      <td>1</td>\n",
       "    </tr>\n",
       "    <tr>\n",
       "      <th>108270</th>\n",
       "      <td>1</td>\n",
       "      <td>1</td>\n",
       "      <td>1</td>\n",
       "    </tr>\n",
       "    <tr>\n",
       "      <th>264473</th>\n",
       "      <td>1</td>\n",
       "      <td>1</td>\n",
       "      <td>1</td>\n",
       "    </tr>\n",
       "    <tr>\n",
       "      <th>274352</th>\n",
       "      <td>1</td>\n",
       "      <td>1</td>\n",
       "      <td>1</td>\n",
       "    </tr>\n",
       "    <tr>\n",
       "      <th>...</th>\n",
       "      <td>...</td>\n",
       "      <td>...</td>\n",
       "      <td>...</td>\n",
       "    </tr>\n",
       "    <tr>\n",
       "      <th>5645737</th>\n",
       "      <td>1</td>\n",
       "      <td>1</td>\n",
       "      <td>1</td>\n",
       "    </tr>\n",
       "    <tr>\n",
       "      <th>5651566</th>\n",
       "      <td>1</td>\n",
       "      <td>1</td>\n",
       "      <td>1</td>\n",
       "    </tr>\n",
       "    <tr>\n",
       "      <th>5662322</th>\n",
       "      <td>1</td>\n",
       "      <td>1</td>\n",
       "      <td>1</td>\n",
       "    </tr>\n",
       "    <tr>\n",
       "      <th>5681918</th>\n",
       "      <td>1</td>\n",
       "      <td>1</td>\n",
       "      <td>1</td>\n",
       "    </tr>\n",
       "    <tr>\n",
       "      <th>5740903</th>\n",
       "      <td>1</td>\n",
       "      <td>1</td>\n",
       "      <td>1</td>\n",
       "    </tr>\n",
       "  </tbody>\n",
       "</table>\n",
       "<p>392 rows × 3 columns</p>\n",
       "</div>"
      ],
      "text/plain": [
       "         grp  rev  paid\n",
       "id                     \n",
       "1627       1    1     1\n",
       "100300     1    1     1\n",
       "108270     1    1     1\n",
       "264473     1    1     1\n",
       "274352     1    1     1\n",
       "...      ...  ...   ...\n",
       "5645737    1    1     1\n",
       "5651566    1    1     1\n",
       "5662322    1    1     1\n",
       "5681918    1    1     1\n",
       "5740903    1    1     1\n",
       "\n",
       "[392 rows x 3 columns]"
      ]
     },
     "execution_count": 47,
     "metadata": {},
     "output_type": "execute_result"
    }
   ],
   "source": [
    "# Каждый id уникален. Это значит, что средний чек увеличился за счет увеличения чека, а не повторных покупок.\n",
    "# На это указывает одинаковое количество строк с исходным датафреймом.\n",
    "\n",
    "paids.groupby('id').nunique()"
   ]
  },
  {
   "cell_type": "code",
   "execution_count": 48,
   "metadata": {},
   "outputs": [
    {
     "data": {
      "text/plain": [
       "(392, 4)"
      ]
     },
     "execution_count": 48,
     "metadata": {},
     "output_type": "execute_result"
    }
   ],
   "source": [
    "paids.shape"
   ]
  },
  {
   "cell_type": "markdown",
   "metadata": {},
   "source": [
    "**ARPPU и ARPPU вывод:**\n",
    "\n",
    "Результаты теста не оказывают на ARPU(Средний доход на пользователя) статистически значимого влияния.\n",
    "\n",
    "Однако разница в ARPPU(Средний доход на платящего пользователя) является статистически значимой. Вывод по этим показателям сходится с выводом по CR(тестируемая механика не влияет на принятие решения о покупке).\n",
    "\n",
    "Логично, что на средний доход пользователя тест тоже не повлиял. Однако повлиял на доход среди уже платящих пользователей.\n",
    "\n",
    "В случае ARPPU мы отвергаем нулевую гипотезу, разница среднего дохода на платящего пользователя статистически значима."
   ]
  },
  {
   "cell_type": "markdown",
   "metadata": {},
   "source": [
    "# Общий вывод\n",
    "\n",
    "- **Конверсия в группе A ≈ 5.07%. В группе B ≈ 4.62%. Различия не имеют статистической значимости(χ2).**\n",
    "\n",
    "- **Средний доход на пользователя в группе A = 47.3. В группе B = 58.1. Различия не имеют статистической значимости(T-тест).**\n",
    "\n",
    "- **Средний доход на платящего пользователя в группе A = 933.6. В группе B = 1257.9. Различия статистически значимы(T-тест).**"
   ]
  },
  {
   "cell_type": "markdown",
   "metadata": {},
   "source": [
    "**Рост ARPPU обусловлен увеличением суммы одной покупки. В датасете каждый id уникален.**"
   ]
  },
  {
   "cell_type": "markdown",
   "metadata": {},
   "source": [
    "### Рекомендация по запуску на всех пользователей:\n",
    "\n",
    "**На основе этих результатов целесообразно внедрить новую механику оплаты для всех пользователей. Поскольку новая система «как минимум не делает хуже» ключевые метрики, рисков особых нет. А заметное увеличение среднего чека среди платящих – это положительный результат для выручки.**\n",
    "\n",
    "#### Особенно если бизнесу важно повысить доход с транзакции (ARPPU), то новая механика явно полезна. \n",
    "#### Даже при неизменной конверсии, рост среднего чека в группе B приводит к росту выручки на пользователя (хоть и статистически незначимому в этой выборке, тренд позитивный). \n",
    "#### Можно ожидать, что на больших масштабах общий доход увеличится. Исключение может быть, если бы основной целью была именно максимизация конверсии любой ценой – тогда стоило бы учесть, что конверсия не выросла. Но так как она и не упала значимо, внедрение не повредит и этому показателю."
   ]
  },
  {
   "cell_type": "markdown",
   "metadata": {},
   "source": [
    "# Задание 2. SQL\n",
    "\n",
    "## 2.1 Очень усердные ученики.\n",
    "\n",
    "### 2.1.1 Условие\n",
    "\n",
    "Образовательные курсы состоят из различных уроков, каждый из которых состоит из нескольких маленьких заданий. Каждое такое маленькое задание называется \"горошиной\".\n",
    "\n",
    "Назовём очень усердным учеником того пользователя, который хотя бы раз за текущий месяц правильно решил 20 горошин."
   ]
  },
  {
   "cell_type": "markdown",
   "metadata": {},
   "source": [
    "Необходимо написать оптимальный запрос, который даст информацию о количестве очень усердных студентов.NB! Под усердным студентом мы понимаем студента, который правильно решил 20 задач за текущий месяц."
   ]
  },
  {
   "cell_type": "markdown",
   "metadata": {},
   "source": [
    "### Дана таблица peas вида:\n",
    "\n",
    "![peas](https://sun9-59.userapi.com/impg/t0annIK45CBYRe76XM4fI7yuVolGGNa4Za5-gQ/CWYN6ms2KL0.jpg?size=814x233&quality=95&sign=d41ab9233f7c4629e01e01fdd5be6a27&type=album)"
   ]
  },
  {
   "cell_type": "markdown",
   "metadata": {},
   "source": [
    "# SQL код запроса\n",
    "\n",
    "```\n",
    "SELECT COUNT(1) AS very_diligent_students\n",
    "FROM (\n",
    "    SELECT st_id\n",
    "    FROM peas\n",
    "    WHERE correct = TRUE\n",
    "    GROUP BY st_id\n",
    "    HAVING COUNT(*) >= 20 -- 20 и более правильных ответов\n",
    ") AS sub;\n",
    "\n",
    "```"
   ]
  },
  {
   "cell_type": "markdown",
   "metadata": {},
   "source": [
    ">Выдача по запросу: very_diligent_students 136\t"
   ]
  },
  {
   "cell_type": "markdown",
   "metadata": {},
   "source": [
    "## 2.2 Оптимизация воронки\n",
    "\n",
    "### 2.2.1 Условие\n",
    "\n",
    ">Образовательная платформа предлагает пройти студентам курсы по модели trial: студент может решить бесплатно лишь 30 горошин в день. Для неограниченного количества заданий в определенной дисциплине студенту необходимо приобрести полный доступ. Команда провела эксперимент, где был протестирован новый экран оплаты.\n",
    "\n",
    "### 2.2.2 Задача\n",
    "\n",
    ">Даны таблицы: peas(cм. выше), studs и final_project_check"
   ]
  },
  {
   "cell_type": "markdown",
   "metadata": {},
   "source": [
    "![studs](https://sun9-4.userapi.com/impg/NjHxVOErcQ1qXs5gvaUezBxc1vtJ5yjsldmiOQ/A91FB5MNUnc.jpg?size=806x370&quality=95&sign=b7aec5779c266096296e9f89159d78bd&type=album)"
   ]
  },
  {
   "cell_type": "markdown",
   "metadata": {},
   "source": [
    "Необходимо в одном запросе выгрузить следующую информацию о группах пользователей:\n",
    "\n",
    "- ARPU \n",
    "- ARPAU \n",
    "- CR в покупку \n",
    "- СR активного пользователя в покупку \n",
    "- CR пользователя из активности по математике (subject = ’math’) в покупку курса по математике\n",
    "- ARPU считается относительно всех пользователей, попавших в группы.\n",
    "\n",
    "- Активным считается пользователь, за все время решивший больше 10 задач правильно в любых дисциплинах.\n",
    "\n",
    "- Активным по математике считается пользователь, за все время решивший 2 или больше задач правильно по математике."
   ]
  },
  {
   "cell_type": "markdown",
   "metadata": {},
   "source": [
    "```\n",
    "SELECT \n",
    "    tests.test_grp AS \"group\",     \n",
    "    -- ARPU: средняя выручка на пользователя\n",
    "    ROUND(\n",
    "        SUM(final_project_check.money) \n",
    "        / NULLIF(COUNT(DISTINCT tests.st_id), 0)::numeric,\n",
    "    2) AS ARPU,     \n",
    "\n",
    "    -- ARPAU: средняя выручка на активного пользователя (>10 правильных решений)\n",
    "    ROUND(\n",
    "        SUM(CASE WHEN active_info.total_correct > 10 THEN final_project_check.money END) \n",
    "        / NULLIF(\n",
    "            COUNT(DISTINCT CASE WHEN active_info.total_correct > 10 THEN active_info.st_id END),\n",
    "        0)::numeric,\n",
    "    2) AS ARPAU,       \n",
    "\n",
    "    -- CR_total_user: конверсия в покупку среди всех пользователей\n",
    "    ROUND(\n",
    "        COUNT(DISTINCT CASE WHEN final_project_check.money > 0 THEN final_project_check.st_id END) * 100.0\n",
    "        / NULLIF(COUNT(DISTINCT tests.st_id), 0),\n",
    "    2) AS CR_total_user,     \n",
    "\n",
    "    -- CR_active_user: конверсия в покупку среди активных пользователей (>10 правильных решений)\n",
    "    ROUND(\n",
    "        COUNT(DISTINCT CASE WHEN final_project_check.money > 0 AND active_info.total_correct > 10 THEN final_project_check.st_id END) * 100.0\n",
    "        / NULLIF(\n",
    "            COUNT(DISTINCT CASE WHEN active_info.total_correct > 10 THEN active_info.st_id END),\n",
    "        0),\n",
    "    2) AS CR_active_user,     \n",
    "\n",
    "    -- CR_math_user: конверсия в покупку по math среди \"математически активных\" (≥2 правильных по math)\n",
    "    ROUND(\n",
    "        COUNT(DISTINCT CASE WHEN final_project_check.money > 0 \n",
    "                                 AND final_project_check.subject = 'Math'\n",
    "                                 AND active_info.math_correct >= 2\n",
    "                            THEN final_project_check.st_id \n",
    "                       END\n",
    "        ) * 100.0\n",
    "        / NULLIF(\n",
    "            COUNT(DISTINCT CASE WHEN active_info.math_correct >= 2 THEN active_info.st_id END),\n",
    "        0),\n",
    "    2) AS CR_math_user \n",
    "\n",
    "FROM studs AS tests \n",
    "LEFT JOIN final_project_check AS final_project_check \n",
    "    ON tests.st_id = final_project_check.st_id \n",
    "LEFT JOIN (\n",
    "    SELECT \n",
    "        st_id, \n",
    "        -- Считаем общее число верно решённых задач (по всем предметам)\n",
    "        SUM(CASE WHEN correct THEN 1 ELSE 0 END) AS total_correct,         \n",
    "        -- Считаем число верно решённых задач по математике\n",
    "        SUM(CASE WHEN subject = 'Math' AND correct THEN 1 ELSE 0 END) AS math_correct\n",
    "    FROM peas\n",
    "    GROUP BY st_id\n",
    ") AS active_info         \n",
    "    ON tests.st_id = active_info.st_id \n",
    "GROUP BY tests.test_grp;\n",
    "```"
   ]
  },
  {
   "cell_type": "markdown",
   "metadata": {},
   "source": [
    "Соберем в датафрейм для наглядности."
   ]
  },
  {
   "cell_type": "code",
   "execution_count": 49,
   "metadata": {},
   "outputs": [
    {
     "data": {
      "text/html": [
       "<div>\n",
       "<style scoped>\n",
       "    .dataframe tbody tr th:only-of-type {\n",
       "        vertical-align: middle;\n",
       "    }\n",
       "\n",
       "    .dataframe tbody tr th {\n",
       "        vertical-align: top;\n",
       "    }\n",
       "\n",
       "    .dataframe thead th {\n",
       "        text-align: right;\n",
       "    }\n",
       "</style>\n",
       "<table border=\"1\" class=\"dataframe\">\n",
       "  <thead>\n",
       "    <tr style=\"text-align: right;\">\n",
       "      <th></th>\n",
       "      <th>group</th>\n",
       "      <th>arpu</th>\n",
       "      <th>arpau</th>\n",
       "      <th>cr_total_user</th>\n",
       "      <th>cr_active_user</th>\n",
       "      <th>cr_math_user</th>\n",
       "    </tr>\n",
       "  </thead>\n",
       "  <tbody>\n",
       "    <tr>\n",
       "      <th>0</th>\n",
       "      <td>control</td>\n",
       "      <td>4540.98</td>\n",
       "      <td>10393.70</td>\n",
       "      <td>4.92</td>\n",
       "      <td>11.02</td>\n",
       "      <td>6.12</td>\n",
       "    </tr>\n",
       "    <tr>\n",
       "      <th>1</th>\n",
       "      <td>pilot</td>\n",
       "      <td>11508.47</td>\n",
       "      <td>29739.58</td>\n",
       "      <td>10.85</td>\n",
       "      <td>26.04</td>\n",
       "      <td>9.52</td>\n",
       "    </tr>\n",
       "  </tbody>\n",
       "</table>\n",
       "</div>"
      ],
      "text/plain": [
       "     group      arpu     arpau  cr_total_user  cr_active_user  cr_math_user\n",
       "0  control   4540.98  10393.70           4.92           11.02          6.12\n",
       "1    pilot  11508.47  29739.58          10.85           26.04          9.52"
      ]
     },
     "execution_count": 49,
     "metadata": {},
     "output_type": "execute_result"
    }
   ],
   "source": [
    "data = {\n",
    "    \"group\": [\"control\", \"pilot\"],\n",
    "    \"arpu\": [4540.98, 11508.47],\n",
    "    \"arpau\": [10393.70, 29739.58],\n",
    "    \"cr_total_user\": [4.92, 10.85],\n",
    "    \"cr_active_user\": [11.02, 26.04],\n",
    "    \"cr_math_user\": [6.12, 9.52]\n",
    "}\n",
    "\n",
    "df = pd.DataFrame(data)\n",
    "\n",
    "df"
   ]
  },
  {
   "cell_type": "markdown",
   "metadata": {},
   "source": [
    "# Задание 3. Python"
   ]
  },
  {
   "cell_type": "markdown",
   "metadata": {},
   "source": [
    "## 3.1 Задача"
   ]
  },
  {
   "cell_type": "markdown",
   "metadata": {},
   "source": [
    "3.1.1 Реализуйте функцию, которая будет автоматически подгружать информацию из дополнительного файла groups_add.csv (заголовки могут отличаться) и на основании дополнительных параметров пересчитывать метрики."
   ]
  },
  {
   "cell_type": "code",
   "execution_count": 50,
   "metadata": {},
   "outputs": [
    {
     "data": {
      "text/html": [
       "<div>\n",
       "<style scoped>\n",
       "    .dataframe tbody tr th:only-of-type {\n",
       "        vertical-align: middle;\n",
       "    }\n",
       "\n",
       "    .dataframe tbody tr th {\n",
       "        vertical-align: top;\n",
       "    }\n",
       "\n",
       "    .dataframe thead th {\n",
       "        text-align: right;\n",
       "    }\n",
       "</style>\n",
       "<table border=\"1\" class=\"dataframe\">\n",
       "  <thead>\n",
       "    <tr style=\"text-align: right;\">\n",
       "      <th></th>\n",
       "      <th>grp</th>\n",
       "      <th>user_count</th>\n",
       "      <th>payds_count</th>\n",
       "      <th>revenue</th>\n",
       "      <th>CR</th>\n",
       "      <th>ARPU</th>\n",
       "      <th>ARPPU</th>\n",
       "    </tr>\n",
       "  </thead>\n",
       "  <tbody>\n",
       "    <tr>\n",
       "      <th>0</th>\n",
       "      <td>A</td>\n",
       "      <td>1538</td>\n",
       "      <td>78</td>\n",
       "      <td>72820.0000</td>\n",
       "      <td>5.07</td>\n",
       "      <td>47.35</td>\n",
       "      <td>933.59</td>\n",
       "    </tr>\n",
       "    <tr>\n",
       "      <th>1</th>\n",
       "      <td>B</td>\n",
       "      <td>6803</td>\n",
       "      <td>314</td>\n",
       "      <td>394974.0035</td>\n",
       "      <td>4.62</td>\n",
       "      <td>58.06</td>\n",
       "      <td>1257.88</td>\n",
       "    </tr>\n",
       "  </tbody>\n",
       "</table>\n",
       "</div>"
      ],
      "text/plain": [
       "  grp  user_count  payds_count      revenue    CR   ARPU    ARPPU\n",
       "0   A        1538           78   72820.0000  5.07  47.35   933.59\n",
       "1   B        6803          314  394974.0035  4.62  58.06  1257.88"
      ]
     },
     "execution_count": 50,
     "metadata": {},
     "output_type": "execute_result"
    }
   ],
   "source": [
    "def load_data(url: str, sep: str) -> pd.DataFrame:\n",
    "    \"\"\"\n",
    "    Загружает данные по публичному URL из Yandex Disk.\n",
    "    \n",
    "    Параметры:\n",
    "      url: Строка с публичной ссылкой на файл.\n",
    "      sep: Разделитель для чтения CSV-файла.\n",
    "      \n",
    "    Возвращает:\n",
    "      DataFrame с данными. Если столбец 'id' отсутствует, но есть 'student_id',\n",
    "      он переименовывается в 'id'.\n",
    "    \"\"\"\n",
    "    # Формирование запроса к API Yandex Disk с использованием urlencode для корректного формирования параметров.\n",
    "    api_path = 'https://cloud-api.yandex.net/v1/disk/public/resources/download?'\n",
    "    full_url = api_path + urlencode({'public_key': url})\n",
    "    \n",
    "    # Выполняем GET-запрос и проверяем успешность ответа.\n",
    "    response = requests.get(full_url)\n",
    "    response.raise_for_status()  # Если статус ошибки, выбросится исключение.\n",
    "    \n",
    "    # Извлекаем URL для скачивания файла.\n",
    "    download_url = response.json().get('href')\n",
    "    if not download_url:\n",
    "        raise ValueError(\"Не удалось получить URL для скачивания\")\n",
    "    \n",
    "    # Чтение CSV-файла по полученному URL.\n",
    "    df = pd.read_csv(download_url, sep=sep)\n",
    "    \n",
    "    # Если столбец 'id' отсутствует, но присутствует 'student_id', переименовываем его.\n",
    "    if 'id' not in df.columns and 'student_id' in df.columns:\n",
    "        df.rename(columns={'student_id': 'id'}, inplace=True)\n",
    "    \n",
    "    return df\n",
    "\n",
    "def update_metrics(public_keys: dict) -> pd.DataFrame:\n",
    "    \"\"\"\n",
    "    Загружает данные, объединяет их и рассчитывает метрики.\n",
    "    \n",
    "    Параметры:\n",
    "      public_keys: Словарь, где каждому ключу соответствует список из [URL, разделитель].\n",
    "      \n",
    "    Возвращает:\n",
    "      DataFrame с рассчитанными метриками:\n",
    "        - user_count: количество пользователей,\n",
    "        - payds_count: количество пользователей, совершивших платеж,\n",
    "        - revenue: суммарный доход,\n",
    "        - CR: конверсия в процентах,\n",
    "        - ARPU: доход на пользователя,\n",
    "        - ARPPU: доход на платящего пользователя.\n",
    "    \"\"\"\n",
    "    # Загрузка данных из разных источников.\n",
    "    groups = load_data(public_keys['groups'][0], public_keys['groups'][1])\n",
    "    groups_add = load_data(public_keys['groups_add'][0], public_keys['groups_add'][1])\n",
    "    active_studs = load_data(public_keys['active_studs'][0], public_keys['active_studs'][1])\n",
    "    checks = load_data(public_keys['checks'][0], public_keys['checks'][1])\n",
    "    \n",
    "    # Объединение групп в один DF.\n",
    "    groups_full = pd.concat([groups, groups_add], ignore_index=True)\n",
    "    \n",
    "    # Объединение активных студентов с данными проверок по столбцу 'id'.\n",
    "    active_studs = active_studs.merge(checks, how='left', on='id').fillna(0)\n",
    "    \n",
    "    # Объединение активных студентов с информацией о группах.\n",
    "    final_df = active_studs.merge(groups_full, how='left', on='id')\n",
    "    \n",
    "    # Добавление булевого столбца 'paid', который True, если 'rev' > 0.\n",
    "    final_df['paid'] = final_df['rev'] > 0\n",
    "    \n",
    "    # Группировка по'grp' и расчет агрегированных метрик.\n",
    "    result = final_df.groupby('grp').agg(\n",
    "        user_count=('id', 'count'),      # Количество пользователей.\n",
    "        payds_count=('paid', 'sum'),       # Сумма True в столбце 'paid' = количество платежей.\n",
    "        revenue=('rev', 'sum')             # Суммарный доход.\n",
    "    )\n",
    "    \n",
    "    # Расчет CR в процентах, ARPU и ARPPU с округлением до 2 знаков.\n",
    "    result['CR'] = round(result['payds_count'] / result['user_count'] * 100, 2)\n",
    "    result['ARPU'] = round(result['revenue'] / result['user_count'], 2)\n",
    "    result['ARPPU'] = round(result['revenue'] / result['payds_count'], 2)\n",
    "    \n",
    "    return result.reset_index()\n",
    "\n",
    "public_keys = {}\n",
    "public_keys['groups'] = ['https://disk.yandex.ru/d/UhyYx41rTt3clQ', ';']\n",
    "public_keys['groups_add'] = ['https://disk.yandex.ru/d/5Kxrz02m3IBUwQ', ',']\n",
    "public_keys['active_studs'] = ['https://disk.yandex.ru/d/Tbs44Bm6H_FwFQ', ',']\n",
    "public_keys['checks'] = ['https://disk.yandex.ru/d/pH1q-VqcxXjsVA', ';']\n",
    "\n",
    "# Вызываем функцию и сохраняем результат в переменную metrics_result\n",
    "metrics_result = update_metrics(public_keys)\n",
    "\n",
    "metrics_result"
   ]
  },
  {
   "cell_type": "markdown",
   "metadata": {},
   "source": [
    "3.1.2. Реализуйте функцию, которая будет строить графики по получаемым метрикам."
   ]
  },
  {
   "cell_type": "code",
   "execution_count": 51,
   "metadata": {},
   "outputs": [],
   "source": [
    "def showing(metrics_result):   \n",
    "    sns.set(style=\"dark\")\n",
    "    \n",
    "    fig, axs = plt.subplots(ncols=3, figsize=(16, 5))\n",
    "\n",
    "    sns.barplot(x=\"grp\", y=\"CR\", \n",
    "                data=metrics_result,\n",
    "                ax=axs[0], palette='husl').set(xlabel='Group', ylabel='', title='CR')\n",
    "    sns.barplot(x=\"grp\", y=\"ARPU\", \n",
    "                data=metrics_result,\n",
    "                ax=axs[1], palette='husl').set(xlabel='Group', ylabel='', title='ARPU')\n",
    "    sns.barplot(x='grp', y=\"ARPPU\",            \n",
    "                data=metrics_result,\n",
    "                ax=axs[2], palette='husl').set(xlabel='Group', ylabel='', title='ARPPU')\n",
    "\n",
    "\n",
    "    plt.show()"
   ]
  },
  {
   "cell_type": "code",
   "execution_count": 52,
   "metadata": {},
   "outputs": [
    {
     "data": {
      "image/png": "[encoded data removed]",
      "text/plain": [
       "<Figure size 1152x360 with 3 Axes>"
      ]
     },
     "metadata": {},
     "output_type": "display_data"
    }
   ],
   "source": [
    "showing(metrics_result)"
   ]
  },
  {
   "cell_type": "markdown",
   "metadata": {},
   "source": [
    "Fin"
   ]
  }
 ],
 "metadata": {
  "kernelspec": {
   "display_name": "Python 3",
   "language": "python",
   "name": "python3"
  },
  "language_info": {
   "codemirror_mode": {
    "name": "ipython",
    "version": 3
   },
   "file_extension": ".py",
   "mimetype": "text/x-python",
   "name": "python",
   "nbconvert_exporter": "python",
   "pygments_lexer": "ipython3",
   "version": "3.7.3"
  }
 },
 "nbformat": 4,
 "nbformat_minor": 4
}
